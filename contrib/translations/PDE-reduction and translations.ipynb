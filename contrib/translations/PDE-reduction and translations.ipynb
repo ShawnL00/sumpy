{
 "cells": [
  {
   "cell_type": "code",
   "execution_count": 1,
   "metadata": {},
   "outputs": [],
   "source": [
    "import pyopencl as cl\n",
    "import sumpy.toys as t\n",
    "import numpy as np\n",
    "import numpy.linalg as la\n",
    "import matplotlib.pyplot as plt\n",
    "from sumpy.visualization import FieldPlotter\n",
    "from pytools import add_tuples\n",
    "\n",
    "from sumpy.expansion.local import VolumeTaylorLocalExpansion\n",
    "from sumpy.expansion.multipole import VolumeTaylorMultipoleExpansion\n",
    "from sumpy.kernel import (YukawaKernel, HelmholtzKernel, LaplaceKernel)\n",
    "\n",
    "order = 4\n",
    "\n",
    "knl = LaplaceKernel(2)\n",
    "\n",
    "pde = [(1, (2,0)), (1, (0, 2))]\n",
    "\n",
    "mpole_expn = VolumeTaylorMultipoleExpansion(knl, order)\n",
    "local_expn = VolumeTaylorLocalExpansion(knl, order)\n",
    "\n",
    "cl_ctx = cl.create_some_context(answers=[\"port\"])\n",
    "\n",
    "tctx = t.ToyContext(\n",
    "        cl_ctx,\n",
    "        knl,\n",
    "        mpole_expn_class=type(mpole_expn),\n",
    "        local_expn_class=type(local_expn),\n",
    "    \n",
    "        #YukawaKernel(2), extra_kernel_kwargs={\"lam\": 5},\n",
    "        #HelmholtzKernel(2), extra_kernel_kwargs={\"k\": 0.3},\n",
    "        )\n"
   ]
  },
  {
   "cell_type": "code",
   "execution_count": 2,
   "metadata": {},
   "outputs": [],
   "source": [
    "pt_src = t.PointSources(\n",
    "        tctx,\n",
    "        np.random.rand(2, 50) - 0.5,\n",
    "        np.ones(50))\n",
    "\n",
    "mexp = t.multipole_expand(pt_src, [0, 0], order)"
   ]
  },
  {
   "cell_type": "code",
   "execution_count": 3,
   "metadata": {},
   "outputs": [
    {
     "data": {
      "text/plain": [
       "array([  5.00000000e+01,  -6.69626794e-01,  -2.33234202e+00,\n",
       "         2.68444605e+00,  -8.96436375e-01,   1.81021063e+00,\n",
       "        -3.27003166e-02,  -2.03802375e-01,  -5.63064621e-03,\n",
       "        -6.23905999e-02,   3.71388362e-02,  -1.37580839e-02,\n",
       "         1.05569439e-01,  -1.39756658e-02,   1.91970436e-02])"
      ]
     },
     "execution_count": 3,
     "metadata": {},
     "output_type": "execute_result"
    }
   ],
   "source": [
    "mexp.coeffs"
   ]
  },
  {
   "cell_type": "code",
   "execution_count": 4,
   "metadata": {},
   "outputs": [],
   "source": [
    "def build_pde_mat(expn, pde):\n",
    "    coeff_ids = expn.get_coefficient_identifiers()\n",
    "    id_to_index = expn._storage_loc_dict\n",
    "    \n",
    "    # FIXME: specific to scalar PDEs\n",
    "    pde_mat = np.zeros((len(coeff_ids), len(coeff_ids)))\n",
    "    \n",
    "    row = 0\n",
    "    for base_coeff_id in coeff_ids:\n",
    "        valid = True\n",
    "        \n",
    "        for pde_coeff, coeff_id_offset in pde:\n",
    "            other_coeff = add_tuples(base_coeff_id, coeff_id_offset)\n",
    "            if not other_coeff in id_to_index:\n",
    "                valid = False\n",
    "                break\n",
    "                \n",
    "            pde_mat[row, id_to_index[other_coeff]] = pde_coeff\n",
    "                \n",
    "        if valid:\n",
    "            row += 1\n",
    "        else:\n",
    "            pde_mat[row] = 0\n",
    "            \n",
    "    return pde_mat[:row]\n",
    "\n",
    "pde_mat = build_pde_mat(mpole_expn, pde)"
   ]
  },
  {
   "cell_type": "code",
   "execution_count": 5,
   "metadata": {},
   "outputs": [],
   "source": [
    "def find_nullspace(mat, tol=1e-10):\n",
    "    u, sig, vt = la.svd(pde_mat, full_matrices=True)\n",
    "    zerosig = np.where(np.abs(sig) < tol)[0]\n",
    "    if zerosig:\n",
    "        nullsp_start = zerosig[0]\n",
    "        assert np.array_equal(zerosig, np.arange(nullsp_start, pde_mat.shape[1]))\n",
    "    else:\n",
    "        nullsp_start = pde_mat.shape[0]\n",
    "                              \n",
    "    return vt[nullsp_start:].T\n",
    "    \n",
    "nullsp = find_nullspace(pde_mat)"
   ]
  },
  {
   "cell_type": "code",
   "execution_count": 6,
   "metadata": {},
   "outputs": [
    {
     "data": {
      "text/plain": [
       "7.3852783309125538e-16"
      ]
     },
     "execution_count": 6,
     "metadata": {},
     "output_type": "execute_result"
    }
   ],
   "source": [
    "la.norm(pde_mat @ nullsp)"
   ]
  },
  {
   "cell_type": "code",
   "execution_count": 7,
   "metadata": {},
   "outputs": [],
   "source": [
    "def build_translation_mat(mexp, to_center):\n",
    "    n = len(mexp.coeffs)\n",
    "    result = np.zeros((n, n))\n",
    "    \n",
    "    for j in range(n):\n",
    "        unit_coeffs = np.zeros(n)\n",
    "        unit_coeffs[j] = 1\n",
    "        unit_mexp = mexp.with_coeffs(unit_coeffs)\n",
    "        \n",
    "        result[:, j] = t.multipole_expand(unit_mexp, to_center).coeffs\n",
    "        \n",
    "    return result\n",
    "\n",
    "new_center = np.array([0, 0.5])\n",
    "tmat = build_translation_mat(mexp, new_center)"
   ]
  },
  {
   "cell_type": "code",
   "execution_count": 8,
   "metadata": {},
   "outputs": [
    {
     "data": {
      "text/plain": [
       "<matplotlib.image.AxesImage at 0x7fb83bb70f28>"
      ]
     },
     "execution_count": 8,
     "metadata": {},
     "output_type": "execute_result"
    },
    {
     "data": {
      "image/png": "[encoded data removed]",
      "text/plain": [
       "<matplotlib.figure.Figure at 0x7fb83be18dd8>"
      ]
     },
     "metadata": {},
     "output_type": "display_data"
    }
   ],
   "source": [
    "plt.imshow(tmat)"
   ]
  },
  {
   "cell_type": "code",
   "execution_count": 9,
   "metadata": {},
   "outputs": [
    {
     "data": {
      "text/plain": [
       "(15, 9)"
      ]
     },
     "execution_count": 9,
     "metadata": {},
     "output_type": "execute_result"
    }
   ],
   "source": [
    "nullsp.shape"
   ]
  },
  {
   "cell_type": "code",
   "execution_count": 10,
   "metadata": {
    "collapsed": true
   },
   "outputs": [],
   "source": [
    "if 1:\n",
    "    reduction_mat = nullsp.T\n",
    "    expansion_mat = nullsp"
   ]
  },
  {
   "cell_type": "code",
   "execution_count": 11,
   "metadata": {},
   "outputs": [],
   "source": [
    "def plot_coeffs(expn, coeffs, **kwargs):\n",
    "    x = [cid[0] for cid in expn.get_coefficient_identifiers()]\n",
    "    y = [cid[1] for cid in expn.get_coefficient_identifiers()]\n",
    "    plt.scatter(x, y, c=coeffs, **kwargs)\n",
    "    plt.colorbar()\n",
    "\n",
    "    for cid, coeff in zip(expn.get_coefficient_identifiers(), coeffs):\n",
    "        plt.text(cid[0], cid[1]+0.2, \"%.1f\" % coeff)\n"
   ]
  },
  {
   "cell_type": "code",
   "execution_count": 12,
   "metadata": {},
   "outputs": [
    {
     "data": {
      "image/png": "[encoded data removed]",
      "text/plain": [
       "<matplotlib.figure.Figure at 0x7fb83bb10b38>"
      ]
     },
     "metadata": {},
     "output_type": "display_data"
    }
   ],
   "source": [
    "proj_mexp = mexp.with_coeffs(expansion_mat @ reduction_mat @ mexp.coeffs)\n",
    "\n",
    "proj_resid = proj_mexp.coeffs - mexp.coeffs\n",
    "\n",
    "plot_coeffs(mpole_expn, np.log10(1e-15+np.abs(proj_resid)), vmin=-15, vmax=2)"
   ]
  },
  {
   "cell_type": "code",
   "execution_count": 14,
   "metadata": {},
   "outputs": [
    {
     "name": "stdout",
     "output_type": "stream",
     "text": [
      "1.24344978758e-14\n"
     ]
    }
   ],
   "source": [
    "print(t.l_inf(proj_mexp - mexp, 1.2, center=[3,0]))"
   ]
  },
  {
   "cell_type": "code",
   "execution_count": 15,
   "metadata": {},
   "outputs": [
    {
     "name": "stdout",
     "output_type": "stream",
     "text": [
      "1.06581410364e-14\n"
     ]
    }
   ],
   "source": [
    "trans_unproj = t.multipole_expand(mexp, new_center)\n",
    "trans_proj = t.multipole_expand(proj_mexp, new_center)\n",
    "\n",
    "print(t.l_inf(trans_unproj - trans_proj, 1.2, center=[3,0]))"
   ]
  },
  {
   "cell_type": "code",
   "execution_count": 16,
   "metadata": {},
   "outputs": [
    {
     "name": "stdout",
     "output_type": "stream",
     "text": [
      "[  0.00000000e+00   1.11022302e-16   0.00000000e+00  -2.24732834e+00\n",
      "   2.22044605e-16  -2.24732834e+00   1.91654814e-02  -9.90567683e-01\n",
      "   1.91654814e-02  -9.90567683e-01  -5.35500227e-02   2.34496156e-02\n",
      "  -3.03526052e-01   2.34496156e-02  -2.49976029e-01]\n"
     ]
    }
   ],
   "source": [
    "print(trans_proj.coeffs - trans_unproj.coeffs)"
   ]
  },
  {
   "cell_type": "code",
   "execution_count": 18,
   "metadata": {},
   "outputs": [
    {
     "data": {
      "text/plain": [
       "9.4262983793905305e-15"
      ]
     },
     "execution_count": 18,
     "metadata": {},
     "output_type": "execute_result"
    }
   ],
   "source": [
    "la.norm(reduction_mat @ (trans_proj.coeffs - trans_unproj.coeffs))"
   ]
  },
  {
   "cell_type": "code",
   "execution_count": null,
   "metadata": {
    "collapsed": true
   },
   "outputs": [],
   "source": []
  }
 ],
 "metadata": {
  "kernelspec": {
   "display_name": "Python 3",
   "language": "python",
   "name": "python3"
  },
  "language_info": {
   "codemirror_mode": {
    "name": "ipython",
    "version": 3
   },
   "file_extension": ".py",
   "mimetype": "text/x-python",
   "name": "python",
   "nbconvert_exporter": "python",
   "pygments_lexer": "ipython3",
   "version": "3.6.4+"
  }
 },
 "nbformat": 4,
 "nbformat_minor": 2
}
